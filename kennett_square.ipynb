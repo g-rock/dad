{
 "cells": [
  {
   "cell_type": "code",
   "execution_count": 42,
   "metadata": {},
   "outputs": [],
   "source": [
    "import requests\n",
    "import urllib\n",
    "import json"
   ]
  },
  {
   "cell_type": "code",
   "execution_count": null,
   "metadata": {},
   "outputs": [],
   "source": [
    "# Setting some constants"
   ]
  },
  {
   "cell_type": "code",
   "execution_count": 30,
   "metadata": {},
   "outputs": [],
   "source": [
    "STATION_ID='KPAKENNE20'\n",
    "API_KEY='9b578573861449a09785738614e9a0ab'\n",
    "BASE_URL='https://api.weather.com/v2/pws/observations/current'"
   ]
  },
  {
   "cell_type": "code",
   "execution_count": null,
   "metadata": {},
   "outputs": [],
   "source": [
    "# Using requests - http://docs.python-requests.org/en/master/user/quickstart/"
   ]
  },
  {
   "cell_type": "code",
   "execution_count": 35,
   "metadata": {},
   "outputs": [],
   "source": [
    "params={\n",
    "    'format': 'json',\n",
    "    'stationId': STATION_ID,\n",
    "    'units': 'e',\n",
    "    'apiKey': '9b578573861449a09785738614e9a0ab'\n",
    "       }\n",
    "r = requests.get(BASE_URL, params=params)"
   ]
  },
  {
   "cell_type": "code",
   "execution_count": 46,
   "metadata": {},
   "outputs": [
    {
     "data": {
      "text/plain": [
       "{'observations': [{'stationID': 'KPAKENNE20',\n",
       "   'obsTimeUtc': '2019-03-05T01:55:31Z',\n",
       "   'obsTimeLocal': '2019-03-04 20:55:31',\n",
       "   'neighborhood': 'Davenport',\n",
       "   'softwareType': 'Cumulus v1.9.4',\n",
       "   'country': 'US',\n",
       "   'solarRadiation': None,\n",
       "   'lon': -75.7192688,\n",
       "   'realtimeFrequency': None,\n",
       "   'epoch': 1551750931,\n",
       "   'lat': 39.85134506,\n",
       "   'uv': 0.0,\n",
       "   'winddir': 260,\n",
       "   'humidity': 55,\n",
       "   'qcStatus': 1,\n",
       "   'imperial': {'temp': 28,\n",
       "    'heatIndex': 28,\n",
       "    'dewpt': 14,\n",
       "    'windChill': 28,\n",
       "    'windSpeed': 0,\n",
       "    'windGust': 5,\n",
       "    'pressure': 30.08,\n",
       "    'precipRate': 0.0,\n",
       "    'precipTotal': 0.1,\n",
       "    'elev': 384}}]}"
      ]
     },
     "execution_count": 46,
     "metadata": {},
     "output_type": "execute_result"
    }
   ],
   "source": [
    "json.loads(r.text)"
   ]
  }
 ],
 "metadata": {
  "kernelspec": {
   "display_name": "Python 3",
   "language": "python",
   "name": "python3"
  },
  "language_info": {
   "codemirror_mode": {
    "name": "ipython",
    "version": 3
   },
   "file_extension": ".py",
   "mimetype": "text/x-python",
   "name": "python",
   "nbconvert_exporter": "python",
   "pygments_lexer": "ipython3",
   "version": "3.7.0"
  }
 },
 "nbformat": 4,
 "nbformat_minor": 2
}
