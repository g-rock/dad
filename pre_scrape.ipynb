{
 "cells": [
  {
   "cell_type": "markdown",
   "metadata": {},
   "source": [
    "* Scrape https://eugene.diamondleague.com/program-results-eugene/ for eventname,gender,lastname,firstname,Country,SB,PB,DOB,html link"
   ]
  },
  {
   "cell_type": "code",
   "execution_count": 1,
   "metadata": {},
   "outputs": [],
   "source": [
    "import requests\n",
    "import pandas as pd\n",
    "from bs4 import BeautifulSoup"
   ]
  },
  {
   "cell_type": "code",
   "execution_count": 2,
   "metadata": {},
   "outputs": [],
   "source": [
    "BASE_URL = 'https://eugene.diamondleague.com'\n",
    "EUGENE_URL = 'https://eugene.diamondleague.com/program-results-eugene/'"
   ]
  },
  {
   "cell_type": "code",
   "execution_count": 3,
   "metadata": {},
   "outputs": [],
   "source": [
    "def make_request_and_get_soup(url):\n",
    "    r = requests.get(url)\n",
    "    s = BeautifulSoup(r.text, 'html.parser')\n",
    "    \n",
    "    return s"
   ]
  },
  {
   "cell_type": "code",
   "execution_count": 4,
   "metadata": {},
   "outputs": [],
   "source": [
    "soup = make_request_and_get_soup(EUGENE_URL)"
   ]
  },
  {
   "cell_type": "code",
   "execution_count": 5,
   "metadata": {},
   "outputs": [],
   "source": [
    "event_names = []\n",
    "event_elems = soup.findAll(\"div\", {'class': 'name'})\n",
    "for elem in event_elems:\n",
    "    event_names.append(elem.text)\n",
    "    "
   ]
  },
  {
   "cell_type": "code",
   "execution_count": 6,
   "metadata": {},
   "outputs": [],
   "source": [
    "link_elems = soup.findAll(\"div\", {'class': 'links'})"
   ]
  },
  {
   "cell_type": "code",
   "execution_count": 7,
   "metadata": {},
   "outputs": [],
   "source": [
    "event_hrefs = []\n",
    "for link in link_elems:\n",
    "    a_elem = link.find('a')\n",
    "    if a_elem:\n",
    "        event_hrefs.append('{}{}'.format(BASE_URL, a_elem['href']))\n",
    "    else:\n",
    "        event_hrefs.append(pd.np.nan)"
   ]
  },
  {
   "cell_type": "code",
   "execution_count": 8,
   "metadata": {},
   "outputs": [],
   "source": [
    "df = pd.DataFrame()"
   ]
  },
  {
   "cell_type": "code",
   "execution_count": 9,
   "metadata": {},
   "outputs": [],
   "source": [
    "df['event_name'] = event_names\n",
    "df['event_hrefs'] = event_hrefs"
   ]
  },
  {
   "cell_type": "code",
   "execution_count": 10,
   "metadata": {},
   "outputs": [],
   "source": [
    "def get_athlete_hrefs(event_href):\n",
    "    try:\n",
    "        event_soup = make_request_and_get_soup(event_href)\n",
    "\n",
    "        athlete_info = []\n",
    "        athlete_elems = event_soup.findAll('div', {'class': 'column name'})\n",
    "        for elem in athlete_elems[1:]:\n",
    "            href = '{}{}'.format(BASE_URL, elem.find('a')['href'])\n",
    "            sb = elem.find('div', {'class': 'column sb'})\n",
    "            pb = elem.find('div', {'class': 'column pb'})\n",
    "            athlete_info.append([href, sb, pb])\n",
    "        \n",
    "        return athlete_info\n",
    "    \n",
    "    except:\n",
    "        return pd.np.nan\n",
    "    \n",
    "    "
   ]
  },
  {
   "cell_type": "code",
   "execution_count": 11,
   "metadata": {
    "scrolled": true
   },
   "outputs": [],
   "source": [
    "df['athlete_infos'] = df['event_hrefs'].apply(get_athlete_hrefs)"
   ]
  },
  {
   "cell_type": "code",
   "execution_count": 12,
   "metadata": {},
   "outputs": [],
   "source": [
    "# split each athlete onto their own row.\n",
    "df = df.athlete_infos.apply(pd.Series) \\\n",
    "    .merge(df, right_index = True, left_index = True) \\\n",
    "    .drop([\"athlete_infos\"], axis = 1) \\\n",
    "    .melt(id_vars = ['event_name', 'event_hrefs'], value_name = \"athlete_info\") \\\n",
    "    .drop(\"variable\", axis = 1) \\\n",
    "    .dropna()"
   ]
  },
  {
   "cell_type": "code",
   "execution_count": 14,
   "metadata": {},
   "outputs": [],
   "source": [
    "def return_list_index(x, index=None):\n",
    "    return x[index]\n",
    "\n",
    "df['athlete_href'] = df['athlete_info'].apply(return_list_index, index=0)\n",
    "df['athlete_sb'] = df['athlete_info'].apply(return_list_index, index=1)\n",
    "df['athlete_pb'] = df['athlete_info'].apply(return_list_index, index=2)\n",
    "df.drop(columns='athlete_info', inplace=True)"
   ]
  },
  {
   "cell_type": "code",
   "execution_count": 15,
   "metadata": {},
   "outputs": [],
   "source": [
    "s = make_request_and_get_soup('https://eugene.diamondleague.com/athletes/14377443.html')"
   ]
  },
  {
   "cell_type": "code",
   "execution_count": 16,
   "metadata": {},
   "outputs": [],
   "source": [
    "def get_athlete_data(athlete_href):\n",
    "    try:\n",
    "        athlete_soup = make_request_and_get_soup(athlete_href)\n",
    "        header = athlete_soup.find('h1')\n",
    "        \n",
    "        full_name = header.find('div').text\n",
    "        full_name_list = full_name.split(' ')\n",
    "        first_name = full_name_list[0]\n",
    "        last_name = full_name_list[1]\n",
    "        \n",
    "        birthdate = header.find('div', {'class': 'birthdate'}).text\n",
    "        country = header.find('div', {'class': 'country'}).text\n",
    "        \n",
    "        return pd.Series([first_name, last_name, birthdate, country])\n",
    "    \n",
    "    except:\n",
    "        return pd.Series([pd.np.nan, pd.np.nan, pd.np.nan, pd.np.nan])\n",
    "    \n",
    "\n"
   ]
  },
  {
   "cell_type": "code",
   "execution_count": null,
   "metadata": {},
   "outputs": [],
   "source": [
    "df[['first_name', 'last_name', 'birthdate', 'country']] = df['athlete_href'].apply(get_athlete_data)"
   ]
  },
  {
   "cell_type": "code",
   "execution_count": null,
   "metadata": {},
   "outputs": [],
   "source": [
    "def clean_bd(x):\n",
    "    try: \n",
    "        return x.replace('.', '/')\n",
    "    except: \n",
    "        return pd.np.nan\n",
    "    \n",
    "    \n",
    "df['birthdate'] = df['birthdate'].apply(clean_bd)\n",
    "    "
   ]
  },
  {
   "cell_type": "code",
   "execution_count": null,
   "metadata": {},
   "outputs": [],
   "source": [
    "df.tail()"
   ]
  }
 ],
 "metadata": {
  "kernelspec": {
   "display_name": "Python 3",
   "language": "python",
   "name": "python3"
  },
  "language_info": {
   "codemirror_mode": {
    "name": "ipython",
    "version": 3
   },
   "file_extension": ".py",
   "mimetype": "text/x-python",
   "name": "python",
   "nbconvert_exporter": "python",
   "pygments_lexer": "ipython3",
   "version": "3.7.0"
  }
 },
 "nbformat": 4,
 "nbformat_minor": 2
}
