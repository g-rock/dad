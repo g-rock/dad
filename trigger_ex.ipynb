{
 "cells": [
  {
   "cell_type": "markdown",
   "metadata": {},
   "source": [
    "## Option 1"
   ]
  },
  {
   "cell_type": "code",
   "execution_count": 1,
   "metadata": {},
   "outputs": [],
   "source": [
    "# Initialize a dictionary "
   ]
  },
  {
   "cell_type": "code",
   "execution_count": 2,
   "metadata": {},
   "outputs": [
    {
     "name": "stdout",
     "output_type": "stream",
     "text": [
      "{1: 'trigger1', 2: 'trigger2', 3: 'trigger3', 4: 'trigger4', 5: 'trigger5', 6: 'trigger6', 7: 'trigger7', 8: 'trigger8', 9: 'trigger9', 10: 'trigger10'}\n"
     ]
    }
   ],
   "source": [
    "trigger = {}\n",
    "\n",
    "for i in range(1,11):\n",
    "    trigger[i] = 'trigger{}'.format(i)\n",
    "    \n",
    "print(trigger)"
   ]
  },
  {
   "cell_type": "code",
   "execution_count": 3,
   "metadata": {},
   "outputs": [],
   "source": [
    "# Function to modify our dictionary"
   ]
  },
  {
   "cell_type": "code",
   "execution_count": 4,
   "metadata": {},
   "outputs": [],
   "source": [
    "def set_trigger_on(num):\n",
    "    for key, value in trigger.items():\n",
    "        if key == num:\n",
    "            print('Setting {} to On!'.format(key))\n",
    "            trigger[key] = 'trigger{}On'.format(key)\n",
    "        else:\n",
    "            trigger[key] = 'trigger{}Off'.format(key)"
   ]
  },
  {
   "cell_type": "code",
   "execution_count": 5,
   "metadata": {},
   "outputs": [
    {
     "name": "stdout",
     "output_type": "stream",
     "text": [
      "Setting 1 to On!\n"
     ]
    }
   ],
   "source": [
    "set_trigger_on(1)"
   ]
  },
  {
   "cell_type": "code",
   "execution_count": 6,
   "metadata": {},
   "outputs": [
    {
     "name": "stdout",
     "output_type": "stream",
     "text": [
      "{1: 'trigger1On', 2: 'trigger2Off', 3: 'trigger3Off', 4: 'trigger4Off', 5: 'trigger5Off', 6: 'trigger6Off', 7: 'trigger7Off', 8: 'trigger8Off', 9: 'trigger9Off', 10: 'trigger10Off'}\n"
     ]
    }
   ],
   "source": [
    "print(trigger)"
   ]
  },
  {
   "cell_type": "code",
   "execution_count": 7,
   "metadata": {},
   "outputs": [
    {
     "name": "stdout",
     "output_type": "stream",
     "text": [
      "Setting 9 to On!\n"
     ]
    }
   ],
   "source": [
    "set_trigger_on(9)"
   ]
  },
  {
   "cell_type": "code",
   "execution_count": 8,
   "metadata": {},
   "outputs": [
    {
     "name": "stdout",
     "output_type": "stream",
     "text": [
      "{1: 'trigger1Off', 2: 'trigger2Off', 3: 'trigger3Off', 4: 'trigger4Off', 5: 'trigger5Off', 6: 'trigger6Off', 7: 'trigger7Off', 8: 'trigger8Off', 9: 'trigger9On', 10: 'trigger10Off'}\n"
     ]
    }
   ],
   "source": [
    "print(trigger)"
   ]
  },
  {
   "cell_type": "markdown",
   "metadata": {},
   "source": [
    "## Option 2"
   ]
  },
  {
   "cell_type": "code",
   "execution_count": 9,
   "metadata": {},
   "outputs": [],
   "source": [
    "# initialize a dictionary\n",
    "\n",
    "trigger = {\n",
    "    'On': [],\n",
    "    'Off': []\n",
    "}"
   ]
  },
  {
   "cell_type": "code",
   "execution_count": 10,
   "metadata": {},
   "outputs": [
    {
     "name": "stdout",
     "output_type": "stream",
     "text": [
      "{'On': [], 'Off': [1, 2, 3, 4, 5, 6, 7, 8, 9, 10]}\n"
     ]
    }
   ],
   "source": [
    "trigger['Off'] = [i for i in range(1,11)]\n",
    "print(trigger)"
   ]
  },
  {
   "cell_type": "code",
   "execution_count": 11,
   "metadata": {},
   "outputs": [],
   "source": [
    "# Function to modify the trigger"
   ]
  },
  {
   "cell_type": "code",
   "execution_count": 12,
   "metadata": {},
   "outputs": [],
   "source": [
    "def set_trigger_on(num):\n",
    "    trigger['On'] = num\n",
    "    trigger['Off'] = [i for i in range(1, 11) if i != num]"
   ]
  },
  {
   "cell_type": "code",
   "execution_count": 13,
   "metadata": {},
   "outputs": [
    {
     "name": "stdout",
     "output_type": "stream",
     "text": [
      "{'On': 1, 'Off': [2, 3, 4, 5, 6, 7, 8, 9, 10]}\n"
     ]
    }
   ],
   "source": [
    "set_trigger_on(1)\n",
    "print(trigger)"
   ]
  },
  {
   "cell_type": "code",
   "execution_count": 14,
   "metadata": {},
   "outputs": [
    {
     "name": "stdout",
     "output_type": "stream",
     "text": [
      "{'On': 9, 'Off': [1, 2, 3, 4, 5, 6, 7, 8, 10]}\n"
     ]
    }
   ],
   "source": [
    "set_trigger_on(9)\n",
    "print(trigger)"
   ]
  },
  {
   "cell_type": "code",
   "execution_count": 15,
   "metadata": {},
   "outputs": [
    {
     "data": {
      "text/plain": [
       "9"
      ]
     },
     "execution_count": 15,
     "metadata": {},
     "output_type": "execute_result"
    }
   ],
   "source": [
    "# With the second method, all you need to do is access the \"On\" key to know which trigger is \"On\"\n",
    "trigger['On']"
   ]
  }
 ],
 "metadata": {
  "kernelspec": {
   "display_name": "Python 3",
   "language": "python",
   "name": "python3"
  },
  "language_info": {
   "codemirror_mode": {
    "name": "ipython",
    "version": 3
   },
   "file_extension": ".py",
   "mimetype": "text/x-python",
   "name": "python",
   "nbconvert_exporter": "python",
   "pygments_lexer": "ipython3",
   "version": "3.7.0"
  }
 },
 "nbformat": 4,
 "nbformat_minor": 2
}
