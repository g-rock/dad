{
 "cells": [
  {
   "cell_type": "code",
   "execution_count": 1,
   "metadata": {},
   "outputs": [],
   "source": [
    "# Initialize a dictionary "
   ]
  },
  {
   "cell_type": "code",
   "execution_count": 2,
   "metadata": {},
   "outputs": [
    {
     "data": {
      "text/plain": [
       "{1: 'trigger1',\n",
       " 2: 'trigger2',\n",
       " 3: 'trigger3',\n",
       " 4: 'trigger4',\n",
       " 5: 'trigger5',\n",
       " 6: 'trigger6',\n",
       " 7: 'trigger7',\n",
       " 8: 'trigger8',\n",
       " 9: 'trigger9',\n",
       " 10: 'trigger10'}"
      ]
     },
     "execution_count": 2,
     "metadata": {},
     "output_type": "execute_result"
    }
   ],
   "source": [
    "trigger = {}\n",
    "\n",
    "for i in range(1,11):\n",
    "    trigger[i] = 'trigger{}'.format(i)\n",
    "    \n",
    "trigger"
   ]
  },
  {
   "cell_type": "code",
   "execution_count": 3,
   "metadata": {},
   "outputs": [],
   "source": [
    "# Function to modify our dictionary"
   ]
  },
  {
   "cell_type": "code",
   "execution_count": 4,
   "metadata": {},
   "outputs": [],
   "source": [
    "\n",
    "def set_trigger_on(num):\n",
    "    for key, value in trigger.items():\n",
    "        if key == num:\n",
    "            print('Setting {} to On!'.format(key))\n",
    "            trigger[key] = 'trigger{}On'.format(key)\n",
    "        else:\n",
    "            trigger[key] = 'trigger{}Off'.format(key)"
   ]
  },
  {
   "cell_type": "code",
   "execution_count": 5,
   "metadata": {},
   "outputs": [
    {
     "name": "stdout",
     "output_type": "stream",
     "text": [
      "Setting 1 to On!\n"
     ]
    }
   ],
   "source": [
    "set_trigger_on(1)"
   ]
  },
  {
   "cell_type": "code",
   "execution_count": 6,
   "metadata": {},
   "outputs": [
    {
     "data": {
      "text/plain": [
       "{1: 'trigger1On',\n",
       " 2: 'trigger2Off',\n",
       " 3: 'trigger3Off',\n",
       " 4: 'trigger4Off',\n",
       " 5: 'trigger5Off',\n",
       " 6: 'trigger6Off',\n",
       " 7: 'trigger7Off',\n",
       " 8: 'trigger8Off',\n",
       " 9: 'trigger9Off',\n",
       " 10: 'trigger10Off'}"
      ]
     },
     "execution_count": 6,
     "metadata": {},
     "output_type": "execute_result"
    }
   ],
   "source": [
    "trigger"
   ]
  },
  {
   "cell_type": "code",
   "execution_count": 7,
   "metadata": {},
   "outputs": [
    {
     "name": "stdout",
     "output_type": "stream",
     "text": [
      "Setting 9 to On!\n"
     ]
    }
   ],
   "source": [
    "set_trigger_on(9)"
   ]
  },
  {
   "cell_type": "code",
   "execution_count": 8,
   "metadata": {},
   "outputs": [
    {
     "data": {
      "text/plain": [
       "{1: 'trigger1Off',\n",
       " 2: 'trigger2Off',\n",
       " 3: 'trigger3Off',\n",
       " 4: 'trigger4Off',\n",
       " 5: 'trigger5Off',\n",
       " 6: 'trigger6Off',\n",
       " 7: 'trigger7Off',\n",
       " 8: 'trigger8Off',\n",
       " 9: 'trigger9On',\n",
       " 10: 'trigger10Off'}"
      ]
     },
     "execution_count": 8,
     "metadata": {},
     "output_type": "execute_result"
    }
   ],
   "source": [
    "trigger"
   ]
  },
  {
   "cell_type": "code",
   "execution_count": null,
   "metadata": {},
   "outputs": [],
   "source": []
  }
 ],
 "metadata": {
  "kernelspec": {
   "display_name": "Python 3",
   "language": "python",
   "name": "python3"
  },
  "language_info": {
   "codemirror_mode": {
    "name": "ipython",
    "version": 3
   },
   "file_extension": ".py",
   "mimetype": "text/x-python",
   "name": "python",
   "nbconvert_exporter": "python",
   "pygments_lexer": "ipython3",
   "version": "3.7.0"
  }
 },
 "nbformat": 4,
 "nbformat_minor": 2
}
